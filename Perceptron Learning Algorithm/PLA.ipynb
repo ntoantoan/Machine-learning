{
 "cells": [
  {
   "cell_type": "code",
   "execution_count": 11,
   "metadata": {},
   "outputs": [
    {
     "name": "stdout",
     "output_type": "stream",
     "text": [
      "[[2.22096057 2.70132234 3.08493823 2.02701417 2.73223639 1.21171968\n",
      "  2.22920603 1.8637762  1.74682699 2.37191737]\n",
      " [2.19579728 3.43487375 2.70849736 1.47010441 2.32571583 2.23682627\n",
      "  1.72925457 1.59716548 2.27230351 2.37595358]]\n",
      "[[4.47403369 4.09281249 4.22222334 4.58438569 4.74493118 3.6355797\n",
      "  5.19217738 3.51075436 3.93784332 3.8787214 ]\n",
      " [2.4040742  1.65061706 2.11659863 2.05326933 2.67628604 2.63347726\n",
      "  3.2425902  2.11880111 1.56029947 2.12126884]]\n"
     ]
    }
   ],
   "source": [
    "# generate data\n",
    "# list of points \n",
    "import numpy as np \n",
    "import matplotlib.pyplot as plt\n",
    "from scipy.spatial.distance import cdist\n",
    "np.random.seed(2)\n",
    "\n",
    "means = [[2, 2], [4, 2]]\n",
    "cov = [[.3, .2], [.2, .3]]\n",
    "N = 10\n",
    "X0 = np.random.multivariate_normal(means[0], cov, N).T\n",
    "X1 = np.random.multivariate_normal(means[1], cov, N).T\n",
    "print(X0)\n",
    "print(X1)"
   ]
  },
  {
   "cell_type": "code",
   "execution_count": 12,
   "metadata": {},
   "outputs": [],
   "source": [
    "def h(w, x):    \n",
    "    return np.sign(np.dot(w.T, x))"
   ]
  },
  {
   "cell_type": "code",
   "execution_count": 13,
   "metadata": {},
   "outputs": [],
   "source": [
    "def has_converged(X, y, w):    \n",
    "    return np.array_equal(h(w, X), y) "
   ]
  },
  {
   "cell_type": "code",
   "execution_count": 14,
   "metadata": {},
   "outputs": [],
   "source": [
    "def perceptron(X, y, w_init):\n",
    "    w = [w_init]\n",
    "    N = X.shape[1]\n",
    "    d = X.shape[0]\n",
    "    mis_points = []\n",
    "    while True:\n",
    "        # mix data \n",
    "        mix_id = np.random.permutation(N)\n",
    "        for i in range(N):\n",
    "            xi = X[:, mix_id[i]].reshape(d, 1)\n",
    "            yi = y[0, mix_id[i]]\n",
    "            if h(w[-1], xi)[0] != yi: # misclassified point\n",
    "                mis_points.append(mix_id[i])\n",
    "                w_new = w[-1] + yi*xi \n",
    "                w.append(w_new)\n",
    "                \n",
    "        if has_converged(X, y, w[-1]):\n",
    "            break\n",
    "    return (w, mis_points)"
   ]
  },
  {
   "cell_type": "code",
   "execution_count": 15,
   "metadata": {},
   "outputs": [
    {
     "name": "stdout",
     "output_type": "stream",
     "text": [
      "[array([[-0.3135082 ],\n",
      "       [ 0.77101174],\n",
      "       [-1.86809065]]), array([[ 0.6864918 ],\n",
      "       [ 2.63478794],\n",
      "       [-0.27092518]]), array([[-0.3135082 ],\n",
      "       [-1.83924575],\n",
      "       [-2.67499938]]), array([[ 0.6864918 ],\n",
      "       [ 0.38171482],\n",
      "       [-0.4792021 ]]), array([[-0.3135082 ],\n",
      "       [-3.5561285 ],\n",
      "       [-2.03950157]]), array([[ 0.6864918 ],\n",
      "       [-1.52911433],\n",
      "       [-0.56939716]]), array([[1.6864918 ],\n",
      "       [0.7000917 ],\n",
      "       [1.15985741]]), array([[ 0.6864918 ],\n",
      "       [-4.04483948],\n",
      "       [-1.51642863]]), array([[ 1.6864918 ],\n",
      "       [-1.67292211],\n",
      "       [ 0.85952495]]), array([[2.6864918 ],\n",
      "       [0.19085409],\n",
      "       [2.45669043]]), array([[ 1.6864918 ],\n",
      "       [-3.31990027],\n",
      "       [ 0.33788932]]), array([[ 2.6864918],\n",
      "       [-1.0989397],\n",
      "       [ 2.5336866]]), array([[ 1.6864918 ],\n",
      "       [-4.9776611 ],\n",
      "       [ 0.41241776]]), array([[ 2.6864918 ],\n",
      "       [-2.95064692],\n",
      "       [ 1.88252217]]), array([[3.6864918 ],\n",
      "       [0.1342913 ],\n",
      "       [4.59101953]]), array([[ 2.6864918 ],\n",
      "       [-4.08793204],\n",
      "       [ 2.4744209 ]]), array([[ 3.6864918 ],\n",
      "       [-1.858726  ],\n",
      "       [ 4.20367547]]), array([[ 2.6864918 ],\n",
      "       [-5.9515385 ],\n",
      "       [ 2.55305842]]), array([[ 3.6864918 ],\n",
      "       [-4.08776229],\n",
      "       [ 4.1502239 ]])]\n"
     ]
    }
   ],
   "source": [
    "d = X.shape[0]\n",
    "w_init = np.random.randn(d, 1)\n",
    "(w, m) = perceptron(X, y, w_init)\n",
    "print(w)"
   ]
  },
  {
   "cell_type": "code",
   "execution_count": null,
   "metadata": {},
   "outputs": [],
   "source": []
  }
 ],
 "metadata": {
  "kernelspec": {
   "display_name": "Python 3",
   "language": "python",
   "name": "python3"
  },
  "language_info": {
   "codemirror_mode": {
    "name": "ipython",
    "version": 3
   },
   "file_extension": ".py",
   "mimetype": "text/x-python",
   "name": "python",
   "nbconvert_exporter": "python",
   "pygments_lexer": "ipython3",
   "version": "3.8.3"
  }
 },
 "nbformat": 4,
 "nbformat_minor": 4
}
